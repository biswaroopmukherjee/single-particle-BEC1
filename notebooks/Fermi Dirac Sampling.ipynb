{
 "cells": [
  {
   "cell_type": "markdown",
   "metadata": {},
   "source": [
    "To sample random numbers from the Fermi-Dirac distribution, we need to first find the CDF, invert it, and then apply it to a set of random numbers sampled from a uniform [0,1] distribution.\n",
    "\n",
    "scipy.stats.rv_continuous should in principle do this (it works nicely for gaussian distributions). But for some reason, it overflows for the F-D:"
   ]
  },
  {
   "cell_type": "code",
   "execution_count": 9,
   "metadata": {
    "collapsed": false
   },
   "outputs": [],
   "source": [
    "# from scipy import stats\n",
    "# class Fermi_Dirac(stats.rv_continuous):\n",
    "#     def _pdf(self, x):\n",
    "#         return  0.5/( 1- (math.exp(x**2 - 1) / 0.1 )) # Fermi-Dirac\n",
    "#         return math.exp(-(x**2))/math.sqrt(math.pi) # Gaussian\n",
    "\n",
    "# FD = Fermi_Dirac()\n",
    "# print(FD.rvs())"
   ]
  },
  {
   "cell_type": "markdown",
   "metadata": {},
   "source": [
    "So we need to integrate the F-D, interpolate it, and then invert the resulting function"
   ]
  },
  {
   "cell_type": "code",
   "execution_count": 3,
   "metadata": {
    "collapsed": false
   },
   "outputs": [],
   "source": [
    "import matplotlib.pyplot as plt\n",
    "import numpy as np\n",
    "import math\n",
    "from mpmath import polylog"
   ]
  },
  {
   "cell_type": "code",
   "execution_count": 6,
   "metadata": {
    "collapsed": false
   },
   "outputs": [
    {
     "name": "stdout",
     "output_type": "stream",
     "text": [
      "[[ 0.  0.  0.  0.  0.  0.  0.  0.  0.  0.  0.  0.  0.  0.  0.  0.  0.  0.\n",
      "   0.  0.  0.  0.  0.  0.  0.  0.  0.  0.  0.  0.  0.  0.  0.  0.  0.  0.\n",
      "   0.  0.  0.  0.  0.  0.  0.  0.  0.  0.  0.  0.  0.  0.]]\n"
     ]
    }
   ],
   "source": [
    "### Define the Fermi-Dirac Distribution\n",
    "def Fermi_Dirac(k, mu, kbT):\n",
    "    return  0.5/(1 + math.exp((math.pow(k,2) - mu)/kbT);\n",
    "\n",
    "\n",
    "### Integrate the Fermi-Dirac Distribution ###\n",
    "x_array\n",
    "cdf_array = np.zeros((1,50))\n",
    "\n",
    "for i in range(np.size(cdf_array)):\n",
    "    cdf_array\n",
    "    "
   ]
  },
  {
   "cell_type": "code",
   "execution_count": 7,
   "metadata": {
    "collapsed": false
   },
   "outputs": [
    {
     "name": "stdout",
     "output_type": "stream",
     "text": [
      "50\n"
     ]
    }
   ],
   "source": [
    "print(np.size(cdf_array))"
   ]
  },
  {
   "cell_type": "code",
   "execution_count": null,
   "metadata": {
    "collapsed": true
   },
   "outputs": [],
   "source": []
  }
 ],
 "metadata": {
  "kernelspec": {
   "display_name": "Python 3",
   "language": "python",
   "name": "python3"
  },
  "language_info": {
   "codemirror_mode": {
    "name": "ipython",
    "version": 3
   },
   "file_extension": ".py",
   "mimetype": "text/x-python",
   "name": "python",
   "nbconvert_exporter": "python",
   "pygments_lexer": "ipython3",
   "version": "3.5.1"
  }
 },
 "nbformat": 4,
 "nbformat_minor": 0
}
