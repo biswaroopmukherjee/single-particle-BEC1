{
 "cells": [
  {
   "cell_type": "code",
   "execution_count": 1,
   "metadata": {
    "collapsed": false
   },
   "outputs": [],
   "source": [
    "import matplotlib.pyplot as plt\n",
    "import numpy as np\n",
    "import math\n",
    "import random\n",
    "import matplotlib.animation as animation\n",
    "import matplotlib.patches as patches"
   ]
  },
  {
   "cell_type": "code",
   "execution_count": 164,
   "metadata": {
    "collapsed": false
   },
   "outputs": [],
   "source": [
    "\"\"\"\n",
    "TOF of atoms in a 2D cone \n",
    "\"\"\"\n",
    "\n",
    "def initialize_box(NumParticles):\n",
    "    class data:\n",
    "        positions = [0.5,2]*(np.random.rand(NumParticles,2)-0.5)\n",
    "        velocities = 1*(np.random.rand(NumParticles,2)-0.5)\n",
    "    return data\n",
    "    \n",
    "def update_positions(data,dt):\n",
    "    # if a particle hits a wall, flip its velocity\n",
    "    for j in range(np.size(data.positions[:,1])):\n",
    "        for dim in range(2):\n",
    "            if (abs(data.positions[j,dim]))>1:\n",
    "                data.velocities[j,dim] = -1*data.velocities[j,dim]\n",
    "    \n",
    "    step = data.velocities*dt\n",
    "    data.positions = data.positions + step\n",
    "    data.velocities[:,0] = data.velocities[:,0] - 1.5 * data.positions[:,0] * dt\n",
    "    return data\n",
    "\n",
    "def update_plot(i,data,scat):\n",
    "    dt = 0.01\n",
    "    data = update_positions(data,dt)\n",
    "    scat.set_offsets(data.positions)\n",
    "    return scat\n",
    "\n",
    "def init():\n",
    "    scat=ax.scatter([],[])\n",
    "    return scat\n",
    "\n",
    "def main():\n",
    "    data = initialize_box(NumParticles = 1000)\n",
    "    \n",
    "    fig = plt.figure()\n",
    "    ax = fig.add_axes([0, 0, 1, 1])\n",
    "    ax.set_xlim(-1.5, 1.5), ax.set_xticks([])\n",
    "    ax.set_ylim(-1.5, 1.5), ax.set_yticks([])\n",
    "    ax.add_patch(\n",
    "        patches.Rectangle(\n",
    "            (-1, -1),2,2,\n",
    "            fill=False      # remove background\n",
    "        )\n",
    "    )\n",
    "\n",
    "    scat = ax.scatter(data.positions[:,0],data.positions[:,1], s=40, alpha=0.8)\n",
    "    ani = animation.FuncAnimation(fig, update_plot, frames=200, interval=5, init_func=init,fargs=(data, scat), repeat=True)\n",
    "    plt.show()\n",
    "    \n",
    "    \n",
    "### RUN PROGRAM ###\n",
    "\n",
    "main()"
   ]
  },
  {
   "cell_type": "code",
   "execution_count": null,
   "metadata": {
    "collapsed": true
   },
   "outputs": [],
   "source": []
  }
 ],
 "metadata": {
  "kernelspec": {
   "display_name": "Python 3",
   "language": "python",
   "name": "python3"
  },
  "language_info": {
   "codemirror_mode": {
    "name": "ipython",
    "version": 3
   },
   "file_extension": ".py",
   "mimetype": "text/x-python",
   "name": "python",
   "nbconvert_exporter": "python",
   "pygments_lexer": "ipython3",
   "version": "3.5.1"
  }
 },
 "nbformat": 4,
 "nbformat_minor": 0
}
