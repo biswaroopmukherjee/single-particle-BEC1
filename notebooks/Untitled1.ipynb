{
 "cells": [
  {
   "cell_type": "code",
   "execution_count": 1,
   "metadata": {
    "collapsed": true
   },
   "outputs": [],
   "source": [
    "import numpy as np\n"
   ]
  },
  {
   "cell_type": "code",
   "execution_count": 6,
   "metadata": {
    "collapsed": false
   },
   "outputs": [
    {
     "name": "stdout",
     "output_type": "stream",
     "text": [
      "[[ 0.15536722  0.33977386  0.65876581  0.18869211  0.53045238  0.83490914\n",
      "   0.78165746  0.64626589  0.37526567  0.75832875]\n",
      " [ 0.21363739  0.38866471  0.69957832  0.29952991  0.78752341  0.28841358\n",
      "   0.97807084  0.35007843  0.567476    0.39665819]\n",
      " [ 0.82502526  0.38248329  0.93653535  0.51229268  0.6433526   0.67713081\n",
      "   0.96046447  0.85326492  0.23962297  0.57409486]\n",
      " [ 0.15099632  0.33447671  0.82822437  0.31668477  0.25513704  0.22712097\n",
      "   0.50995261  0.07547282  0.99807153  0.99180249]\n",
      " [ 0.85930943  0.96955426  0.90705562  0.61087374  0.07120787  0.20753565\n",
      "   0.96268267  0.04455615  0.86513523  0.36796523]\n",
      " [ 0.46296776  0.77711596  0.66373969  0.06637971  0.49420769  0.6262659\n",
      "   0.48978972  0.88399785  0.68283348  0.47593533]\n",
      " [ 0.17843821  0.94397933  0.67960667  0.17337435  0.46293114  0.87819645\n",
      "   0.58098046  0.70190826  0.9649261   0.66201278]\n",
      " [ 0.27287849  0.65755222  0.56737548  0.73105509  0.86395755  0.73070614\n",
      "   0.83711856  0.62871791  0.46755803  0.45865459]\n",
      " [ 0.53341349  0.59089103  0.94707808  0.82453896  0.53710852  0.62853616\n",
      "   0.25680775  0.44118985  0.70495299  0.31564068]\n",
      " [ 0.88929174  0.9239265   0.4592388   0.70904719  0.09355548  0.69104255\n",
      "   0.3071347   0.62882705  0.31911332  0.17068293]]\n"
     ]
    }
   ],
   "source": [
    "matrix = np.random.rand(10,10)\n",
    "print(matrix)"
   ]
  },
  {
   "cell_type": "code",
   "execution_count": 12,
   "metadata": {
    "collapsed": false
   },
   "outputs": [
    {
     "name": "stdout",
     "output_type": "stream",
     "text": [
      "[1, 2]\n"
     ]
    }
   ],
   "source": [
    "pairs = [1,2]\n",
    "print(pairs)"
   ]
  },
  {
   "cell_type": "code",
   "execution_count": 16,
   "metadata": {
    "collapsed": false
   },
   "outputs": [
    {
     "data": {
      "text/plain": [
       "0.69957832126481556"
      ]
     },
     "execution_count": 16,
     "metadata": {},
     "output_type": "execute_result"
    }
   ],
   "source": [
    "matrix[[1,3],[2]"
   ]
  },
  {
   "cell_type": "code",
   "execution_count": null,
   "metadata": {
    "collapsed": true
   },
   "outputs": [],
   "source": []
  }
 ],
 "metadata": {
  "kernelspec": {
   "display_name": "Python 3",
   "language": "python",
   "name": "python3"
  },
  "language_info": {
   "codemirror_mode": {
    "name": "ipython",
    "version": 3
   },
   "file_extension": ".py",
   "mimetype": "text/x-python",
   "name": "python",
   "nbconvert_exporter": "python",
   "pygments_lexer": "ipython3",
   "version": "3.5.1"
  }
 },
 "nbformat": 4,
 "nbformat_minor": 0
}
