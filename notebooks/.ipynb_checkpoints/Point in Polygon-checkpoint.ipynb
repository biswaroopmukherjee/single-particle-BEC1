{
 "cells": [
  {
   "cell_type": "code",
   "execution_count": 1,
   "metadata": {
    "collapsed": false
   },
   "outputs": [
    {
     "data": {
      "image/png": "[encoded data removed]",
      "text/plain": [
       "<matplotlib.figure.Figure at 0x103968f60>"
      ]
     },
     "metadata": {},
     "output_type": "display_data"
    }
   ],
   "source": [
    "import matplotlib.pyplot as plt\n",
    "from matplotlib.path import Path\n",
    "import matplotlib.patches as patches\n",
    "import matplotlib.transforms as mplTransforms\n",
    "import numpy as np\n",
    "%matplotlib inline\n",
    "\n",
    "verts = [\n",
    "    (-0.5, -1.5), # left, bottom\n",
    "    (-1., 1.5), # left, top\n",
    "    (0.5, 1.5), # right, top\n",
    "    (1., -1.5), # right, bottom\n",
    "    (-0.5, -1.5), # ignored\n",
    "        ]\n",
    "\n",
    "codes = [Path.MOVETO,\n",
    "         Path.LINETO,\n",
    "         Path.LINETO,\n",
    "         Path.LINETO,\n",
    "         Path.CLOSEPOLY,\n",
    "         ]\n",
    "\n",
    "path = Path(verts, codes)\n",
    "\n",
    "fig = plt.figure()\n",
    "ax = fig.add_subplot(111)\n",
    "patch = patches.PathPatch(path, facecolor='w', lw=2)\n",
    "ax.add_patch(patch)\n",
    "\n",
    "\n",
    "ax.set_xlim(-2,2)\n",
    "ax.set_ylim(-2,2)\n",
    "plt.show()"
   ]
  },
  {
   "cell_type": "code",
   "execution_count": 13,
   "metadata": {
    "collapsed": false
   },
   "outputs": [
    {
     "data": {
      "text/plain": [
       "False"
      ]
     },
     "execution_count": 13,
     "metadata": {},
     "output_type": "execute_result"
    }
   ],
   "source": [
    "not(path.contains_point((0,0)))"
   ]
  },
  {
   "cell_type": "code",
   "execution_count": 71,
   "metadata": {
    "collapsed": true
   },
   "outputs": [],
   "source": [
    "t_start = ax.transData\n",
    "t = mplTransforms.Affine2D().rotate_deg(-5)\n",
    "t_end = t_start + t\n",
    "\n",
    "patch.set_transform(t_end)\n",
    "\n",
    "ax.add_patch(patch)\n",
    "\n",
    "plt.show()"
   ]
  },
  {
   "cell_type": "code",
   "execution_count": 16,
   "metadata": {
    "collapsed": false
   },
   "outputs": [
    {
     "name": "stdout",
     "output_type": "stream",
     "text": [
      "[array([ 0.5,  1.5]), array([ 1. , -1.5])]\n"
     ]
    },
    {
     "data": {
      "image/png": "[encoded data removed]",
      "text/plain": [
       "<matplotlib.figure.Figure at 0x10fc87630>"
      ]
     },
     "metadata": {},
     "output_type": "display_data"
    },
    {
     "data": {
      "text/plain": [
       "array([ 0.98639392,  0.16439899])"
      ]
     },
     "execution_count": 16,
     "metadata": {},
     "output_type": "execute_result"
    }
   ],
   "source": [
    "def find_nearest_line(point,path):\n",
    "    ## Find the nearest line segment in a path to a point\n",
    "    num_vertices = np.size(path.vertices[0:-1,0])\n",
    "    distances = np.zeros((num_vertices))\n",
    "    for i in range(num_vertices):\n",
    "        ## For every line segment, find the distance\n",
    "        line_segment = path.vertices[i+1]-path.vertices[i]\n",
    "        line_to_point = path.vertices[i+1]-point\n",
    "        distances[i] = np.linalg.norm(np.cross(line_to_point,line_segment))/np.linalg.norm(line_segment)\n",
    "    nearest_line_start_vertex = path.vertices[np.argmin(distances)]\n",
    "    verts = [path.vertices[np.argmin(distances)],path.vertices[np.argmin(distances)+1]]\n",
    "    print(verts)\n",
    "    codes = [Path.MOVETO,\n",
    "         Path.LINETO]\n",
    "    \n",
    "    path_found = Path(verts, codes)\n",
    "\n",
    "    fig = plt.figure()\n",
    "    ax = fig.add_subplot(111)\n",
    "    \n",
    "    patch_original = patches.PathPatch(path,facecolor='w',lw=2)\n",
    "    ax.add_patch(patch_original)\n",
    "    \n",
    "    patch_found = patches.PathPatch(path_found,lw=2,color='r')\n",
    "    ax.add_patch(patch_found)\n",
    "    \n",
    "    a = [point]\n",
    "    \n",
    "    plt.plot(*zip(*a), marker='o', color='r', ls='')\n",
    "    \n",
    "    ax.set_xlim(-2,2)\n",
    "    ax.set_ylim(-2,2)\n",
    "    plt.show()\n",
    "    \n",
    "def find_nearest_normal(point,path):\n",
    "    ## Find the normal vector to a path that is closest to a point\n",
    "    num_vertices = np.size(path.vertices[0:-1,0])\n",
    "    distances = np.zeros((num_vertices))\n",
    "    for i in range(num_vertices):\n",
    "        ## For every line segment, find the distance\n",
    "        line_segment = path.vertices[i+1]-path.vertices[i]\n",
    "        line_to_point = path.vertices[i+1]-point\n",
    "        distances[i] = np.linalg.norm(np.cross(line_to_point,line_segment))/np.linalg.norm(line_segment)\n",
    "    ## The closest line has the least distance. Find the starting vertex and the line segment\n",
    "    nearest_line_start_vertex = path.vertices[np.argmin(distances)]\n",
    "    line_vector = path.vertices[np.argmin(distances)+1] - path.vertices[np.argmin(distances)] \n",
    "    nearest_normal = np.array([[0,-1],[1,0]]).dot(line_vector) ## The normal vector is [-b,a]\n",
    "    return nearest_normal/np.linalg.norm(nearest_normal)  ## Make it a unit vector\n",
    "    \n",
    "\n",
    "test_point = (1.,-0.6)\n",
    "find_nearest_line(test_point,path)\n",
    "find_nearest_normal(test_point,path)"
   ]
  },
  {
   "cell_type": "code",
   "execution_count": null,
   "metadata": {
    "collapsed": true
   },
   "outputs": [],
   "source": []
  }
 ],
 "metadata": {
  "kernelspec": {
   "display_name": "Python 3",
   "language": "python",
   "name": "python3"
  },
  "language_info": {
   "codemirror_mode": {
    "name": "ipython",
    "version": 3
   },
   "file_extension": ".py",
   "mimetype": "text/x-python",
   "name": "python",
   "nbconvert_exporter": "python",
   "pygments_lexer": "ipython3",
   "version": "3.5.1"
  }
 },
 "nbformat": 4,
 "nbformat_minor": 0
}
