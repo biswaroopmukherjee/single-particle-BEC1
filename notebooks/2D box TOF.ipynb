{
 "cells": [
  {
   "cell_type": "code",
   "execution_count": 1,
   "metadata": {
    "collapsed": false
   },
   "outputs": [],
   "source": [
    "import matplotlib.pyplot as plt\n",
    "import numpy as np\n",
    "import math\n",
    "import random\n",
    "import matplotlib.animation as animation\n",
    "import matplotlib.patches as patches\n"
   ]
  },
  {
   "cell_type": "code",
   "execution_count": 21,
   "metadata": {
    "collapsed": false
   },
   "outputs": [],
   "source": [
    "\"\"\"\n",
    "Class definition for the box.\n",
    "\n",
    "    Methods:\n",
    "        - box = Box(500): Initialize a 500 particle box\n",
    "        - box.animate(): video of the atoms flying in the box\n",
    "        - box.momentum_focus(): simulate the momentum focusing observation\n",
    "        \n",
    "\"\"\"\n",
    "\n",
    "class Box():\n",
    "    \n",
    "    def __init__(self, NumParticles=500):\n",
    "        ## Initial properties\n",
    "        self.omega = 1.25\n",
    "        self.dt = 0.01\n",
    "        self.k_F = 2\n",
    "        self.NumParticles = NumParticles\n",
    "        self.box_size = [0.25,1]  \n",
    "        \n",
    "        ## Initial positions\n",
    "        self.positions = [0.5,0.5]*(np.random.rand(NumParticles,2)-0.5)\n",
    "        \n",
    "        ## Momentum distribution (Assuming T=0)\n",
    "        r_points = 2*np.random.rand(NumParticles,1) \n",
    "        theta_points = 2*math.pi*np.random.rand(NumParticles,1)\n",
    "        self.velocities = np.zeros((NumParticles,2))\n",
    "        self.velocities = np.hstack((np.sqrt(r_points)*np.cos(theta_points),\n",
    "                               np.sqrt(r_points)*np.sin(theta_points)))\n",
    "\n",
    "    def update_positions(self):\n",
    "        ## Update the box forward in time to t+dt\n",
    "        step = self.velocities*self.dt\n",
    "        positions_test = self.positions + step\n",
    "          \n",
    "        ## If a particle hits a wall, flip its velocity\n",
    "        for j in range(np.size(self.positions[:,1])):\n",
    "            for dim in range(2):\n",
    "                if (abs(positions_test[j,dim])-0.01)>self.box_size[dim]:\n",
    "                    self.velocities[j,dim] = -1*self.velocities[j,dim]\n",
    "\n",
    "        step = self.velocities*self.dt\n",
    "        self.positions = self.positions + step\n",
    "\n",
    "        self.velocities[:,1] = self.velocities[:,1] - self.omega**2 * self.positions[:,1] * self.dt\n",
    "\n",
    "    def update_plot(self,t,box,scat):\n",
    "        ## Update the plot for the animation method below\n",
    "        self.update_positions()\n",
    "        scat.set_offsets(self.positions)\n",
    "        return scat\n",
    "\n",
    "    def animate(self):\n",
    "        ## Animate the box continuously\n",
    "        fig = plt.figure()\n",
    "        ax = fig.add_axes([0, 0, 1, 1])\n",
    "        ax.set_xlim(-1.25, 1.25), ax.set_xticks([])\n",
    "        ax.set_ylim(-1.25, 1.25), ax.set_yticks([])\n",
    "        ax.add_patch(\n",
    "            patches.Rectangle(\n",
    "                (-0.25, -1),0.5,2,\n",
    "                fill=False      # remove background\n",
    "            )\n",
    "        )\n",
    "\n",
    "        scat = ax.scatter(self.positions[:,0],self.positions[:,1],\n",
    "                          s=30, alpha=0.5, color ='r')\n",
    "\n",
    "        ani = animation.FuncAnimation(fig, box.update_plot, fargs=(self,scat), \n",
    "                                      interval=5, repeat=True)\n",
    "        \n",
    "        plt.show()\n",
    "\n",
    "\n",
    "    def display(self):\n",
    "        fig = plt.figure()\n",
    "        ax = fig.add_axes([0, 0, 1, 1])\n",
    "        ax.set_xlim(-1.25, 1.25), ax.set_xticks([])\n",
    "        ax.set_ylim(-1.25, 1.25), ax.set_yticks([])\n",
    "        ax.add_patch(\n",
    "            patches.Rectangle(\n",
    "                (-0.25, -1),0.5,2,\n",
    "                fill=False      # remove background\n",
    "            )\n",
    "        )\n",
    "        scat = ax.scatter(self.positions[:,0],self.positions[:,1],\n",
    "                          s=30, alpha=0.5, color ='r')\n",
    "        plt.show()\n",
    "        \n",
    "    def momentum_focus(self):\n",
    "        NumFrames = math.floor(math.pi/(self.dt*2*self.omega))\n",
    "        for i in range(NumFrames):\n",
    "            self.update_positions()\n",
    "            \n",
    "        ## Process Data\n",
    "#         hist, bin_edges = np.histogram(self.positions[:,1])\n",
    "#         plt.plot(bin_edges[0:-1],hist)\n",
    "        plt.hist(self.positions[:,1])\n",
    "        plt.show()\n",
    "\n",
    "\n",
    "    "
   ]
  },
  {
   "cell_type": "markdown",
   "metadata": {},
   "source": [
    "### Momentum focusing"
   ]
  },
  {
   "cell_type": "code",
   "execution_count": 25,
   "metadata": {
    "collapsed": false
   },
   "outputs": [],
   "source": [
    "box = Box(NumParticles=4000)\n",
    "box.momentum_focus()"
   ]
  },
  {
   "cell_type": "markdown",
   "metadata": {
    "collapsed": false
   },
   "source": [
    "### Animate the box"
   ]
  },
  {
   "cell_type": "code",
   "execution_count": 26,
   "metadata": {
    "collapsed": true
   },
   "outputs": [],
   "source": [
    "box = Box(NumParticles=400)\n",
    "box.animate()"
   ]
  },
  {
   "cell_type": "code",
   "execution_count": null,
   "metadata": {
    "collapsed": true
   },
   "outputs": [],
   "source": []
  }
 ],
 "metadata": {
  "kernelspec": {
   "display_name": "Python 3",
   "language": "python",
   "name": "python3"
  },
  "language_info": {
   "codemirror_mode": {
    "name": "ipython",
    "version": 3
   },
   "file_extension": ".py",
   "mimetype": "text/x-python",
   "name": "python",
   "nbconvert_exporter": "python",
   "pygments_lexer": "ipython3",
   "version": "3.5.1"
  }
 },
 "nbformat": 4,
 "nbformat_minor": 0
}
