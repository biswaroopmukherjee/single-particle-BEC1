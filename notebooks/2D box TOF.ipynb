{
 "cells": [
  {
   "cell_type": "code",
   "execution_count": 271,
   "metadata": {
    "collapsed": false
   },
   "outputs": [],
   "source": [
    "import matplotlib.pyplot as plt\n",
    "import numpy as np\n",
    "import math\n",
    "import random\n",
    "import matplotlib.animation as animation\n",
    "import matplotlib.patches as patches\n"
   ]
  },
  {
   "cell_type": "code",
   "execution_count": 276,
   "metadata": {
    "collapsed": false
   },
   "outputs": [],
   "source": [
    "\"\"\"\n",
    "TOF of atoms in a 2D box \n",
    "\"\"\"\n",
    "\n",
    "    \n",
    "def initialize_box(NumParticles):\n",
    "    class data:\n",
    "        positions = [0.5,0.5]*(np.random.rand(NumParticles,2)-0.5)\n",
    "        velocities = 2*(np.random.rand(NumParticles,2)-0.5) ## Assume T=0 for now\n",
    "        omega = 1.25\n",
    "        dt = 0.01\n",
    "    return data\n",
    "    \n",
    "def update_positions(t, data,dt):\n",
    "    \n",
    "    box_size = [0.25,1]    \n",
    "    # if a particle hits a wall, flip its velocity\n",
    "    for j in range(np.size(data.positions[:,1])):\n",
    "        for dim in range(2):\n",
    "            if (abs(data.positions[j,dim]))>box_size[dim]:\n",
    "                data.velocities[j,dim] = -1*data.velocities[j,dim]\n",
    "                \n",
    "    step = data.velocities*dt\n",
    "    data.positions = data.positions + step\n",
    "\n",
    "    data.velocities[:,1] = data.velocities[:,1] - data.omega**2 * data.positions[:,1] * dt\n",
    "    return data\n",
    "\n",
    "def update_plot(t,data,scat):\n",
    "    data = update_positions(t, data, data.dt)\n",
    "    scat.set_offsets(data.positions)\n",
    "    return scat\n",
    "\n",
    "def init():\n",
    "    scat=ax.scatter([],[])\n",
    "    return scat\n",
    "\n",
    "def main():\n",
    "    data = initialize_box(NumParticles = 500)\n",
    "    \n",
    "    fig = plt.figure()\n",
    "    ax = fig.add_axes([0, 0, 1, 1])\n",
    "    ax.set_xlim(-1.25, 1.25), ax.set_xticks([])\n",
    "    ax.set_ylim(-1.25, 1.25), ax.set_yticks([])\n",
    "    ax.add_patch(\n",
    "        patches.Rectangle(\n",
    "            (-0.25, -1),0.5,2,\n",
    "            fill=False      # remove background\n",
    "        )\n",
    "    )\n",
    "    \n",
    "    NumFrames = math.floor(math.pi/(data.dt*2*data.omega))\n",
    "\n",
    "\n",
    "    \n",
    "    scat = ax.scatter(data.positions[:,0],data.positions[:,1], s=30, alpha=0.5, color ='r')\n",
    "    ani = animation.FuncAnimation(fig, update_plot, frames=NumFrames, interval=5, init_func=init,fargs=(data, scat), repeat=False)\n",
    "    plt.show()\n",
    "    \n",
    "    \n",
    "### RUN PROGRAM ###\n",
    "\n",
    "main()"
   ]
  },
  {
   "cell_type": "code",
   "execution_count": 256,
   "metadata": {
    "collapsed": false
   },
   "outputs": [],
   "source": [
    "distribution = Fermi_Dirac()\n",
    "points = []\n",
    "for i in range(10000):\n",
    "    points.append(distribution.rvs())\n",
    "    \n",
    "plt.hist(points,500)\n",
    "plt.show()"
   ]
  },
  {
   "cell_type": "code",
   "execution_count": 244,
   "metadata": {
    "collapsed": false
   },
   "outputs": [
    {
     "name": "stdout",
     "output_type": "stream",
     "text": [
      "1.153689732987167\n"
     ]
    }
   ],
   "source": [
    "print(1.1**(3/2))"
   ]
  },
  {
   "cell_type": "code",
   "execution_count": null,
   "metadata": {
    "collapsed": true
   },
   "outputs": [],
   "source": []
  }
 ],
 "metadata": {
  "kernelspec": {
   "display_name": "Python 3",
   "language": "python",
   "name": "python3"
  },
  "language_info": {
   "codemirror_mode": {
    "name": "ipython",
    "version": 3
   },
   "file_extension": ".py",
   "mimetype": "text/x-python",
   "name": "python",
   "nbconvert_exporter": "python",
   "pygments_lexer": "ipython3",
   "version": "3.5.1"
  }
 },
 "nbformat": 4,
 "nbformat_minor": 0
}
